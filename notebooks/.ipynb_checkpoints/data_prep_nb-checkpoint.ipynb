{
 "cells": [
  {
   "cell_type": "markdown",
   "id": "397a5227",
   "metadata": {},
   "source": [
    "Script to extrach data from csr_1 file to single folder"
   ]
  },
  {
   "cell_type": "code",
   "execution_count": 1,
   "id": "83c34963",
   "metadata": {},
   "outputs": [],
   "source": [
    "import os "
   ]
  },
  {
   "cell_type": "code",
   "execution_count": 2,
   "id": "d5c552ab",
   "metadata": {},
   "outputs": [],
   "source": [
    "def DFS(path, file_list, suffixes):\n",
    "    '''\n",
    "    Given a base folder returns a list of\n",
    "    files inside any subdir in base folder \n",
    "    that ends with extensions in suffixes\n",
    "    '''\n",
    "    if os.path.isfile(path):\n",
    "        if path.endswith(suffixes):\n",
    "            file_list.append(path)\n",
    "        return\n",
    "    \n",
    "    files = os.listdir(path)\n",
    "    \n",
    "    for file in files:\n",
    "        DFS(os.path.join(path, file), file_list, suffixes)\n",
    "    \n",
    "    return"
   ]
  },
  {
   "cell_type": "code",
   "execution_count": null,
   "id": "10470fbf",
   "metadata": {},
   "outputs": [],
   "source": [
    "main_folder = 'data/raw_data/csr_1/'\n",
    "clean_speech_file_list = []\n",
    "suffixes = (\"wv1\", \"wv2\")\n",
    "DFS(main_folder, clean_speech_file_list, suffixes)\n",
    "print(\"Number of clean speech in dataset - %d\" %(len(clean_speech_file_list)))\n",
    "\n",
    "main_folder = 'data/raw_data/Single/'\n",
    "noise_file_list = []\n",
    "suffixes = (\"wav\")\n",
    "DFS(main_folder, noise_file_list, suffixes)\n",
    "print(\"Number of noise sample in dataset - %d\" %(len(noise_file_list)))"
   ]
  },
  {
   "cell_type": "code",
   "execution_count": null,
   "id": "e3cd410b",
   "metadata": {},
   "outputs": [],
   "source": [
    "noise_file_list[0], clean_speech_file_list[0]"
   ]
  },
  {
   "cell_type": "code",
   "execution_count": null,
   "id": "f690aa22",
   "metadata": {},
   "outputs": [],
   "source": [
    "# Write file list to text file \n",
    "f = open(os.path.join('data/', 'noise_list.txt'), 'w')\n",
    "for file_path in noise_file_list:\n",
    "    f.write(file_path + '\\n')\n",
    "f.close()\n",
    "\n",
    "f = open(os.path.join('data/', 'clean_list.txt'), 'w')\n",
    "for file_path in clean_speech_file_list:\n",
    "    f.write(file_path + '\\n')\n",
    "f.close()"
   ]
  },
  {
   "cell_type": "markdown",
   "id": "9793c22b",
   "metadata": {},
   "source": [
    "Convert .sph files to .wav files\n",
    "Updates - Not doing this! Will read directly from the sph files"
   ]
  },
  {
   "cell_type": "code",
   "execution_count": null,
   "id": "6f0946cb",
   "metadata": {},
   "outputs": [],
   "source": [
    "import os\n",
    "from sphfile import SPHFile\n",
    "from tqdm import tqdm"
   ]
  },
  {
   "cell_type": "code",
   "execution_count": null,
   "id": "c7c15b49",
   "metadata": {},
   "outputs": [],
   "source": [
    "def getTime(time):\n",
    "    t = time.split(':')\n",
    "    time_sec = int(t[0])*60 + int(t[1]) + int(t[2].split('.')[0])/1000\n",
    "    return time_sec"
   ]
  },
  {
   "cell_type": "code",
   "execution_count": null,
   "id": "3e927465",
   "metadata": {},
   "outputs": [],
   "source": [
    "clean_speech_path = \"data/clean_data/\"\n",
    "files = sorted(os.listdir(clean_speech_path))\n",
    "output_path = \"data/clean_speech_wav/\"\n",
    "os.makedirs(output_path, exist_ok = True)"
   ]
  },
  {
   "cell_type": "code",
   "execution_count": null,
   "id": "527d0b90",
   "metadata": {},
   "outputs": [],
   "source": [
    "for file in tqdm(files):\n",
    "    sph_data = SPHFile(os.path.join(clean_speech_path, file))\n",
    "    file_path = os.path.join(output_path, file.split('.')[0]+'.wav')\n",
    "    time = getTime(sph_data.format['recording_time'])\n",
    "    sph_data.write_wav(str(file_path), 0, time)"
   ]
  },
  {
   "cell_type": "markdown",
   "id": "1d7c7096",
   "metadata": {},
   "source": [
    "Script to write imageset (test, train, val)"
   ]
  },
  {
   "cell_type": "code",
   "execution_count": 16,
   "id": "9afe2b69",
   "metadata": {},
   "outputs": [],
   "source": [
    "import os\n",
    "import random"
   ]
  },
  {
   "cell_type": "code",
   "execution_count": 51,
   "id": "d846730e",
   "metadata": {},
   "outputs": [],
   "source": [
    "filelist = sorted(os.listdir('data/clean_data'))\n",
    "idx = [i for i in range(0,len(filelist))]"
   ]
  },
  {
   "cell_type": "code",
   "execution_count": 52,
   "id": "fb562b7e",
   "metadata": {},
   "outputs": [],
   "source": [
    "train_idx = sorted(random.sample(idx, int(0.7*len(filelist))))\n",
    "test_val_idx = list(set(idx)^set(train_idx))\n",
    "val_idx = sorted(random.sample(test_val_idx, int(0.8*len(test_val_idx))))\n",
    "test_idx = sorted(list(set(test_val_idx)^set(val_idx)))"
   ]
  },
  {
   "cell_type": "code",
   "execution_count": 53,
   "id": "7a4077ab",
   "metadata": {},
   "outputs": [],
   "source": [
    "train_set = 'data/train_set.txt'\n",
    "f = open(train_set, 'w')\n",
    "for i in train_idx:\n",
    "    path = os.path.join('data/clean_data', filelist[i])\n",
    "    f.write(path + '\\n')\n",
    "f.close()"
   ]
  },
  {
   "cell_type": "code",
   "execution_count": 54,
   "id": "5bfc6027",
   "metadata": {},
   "outputs": [],
   "source": [
    "val_set = 'data/val_set.txt'\n",
    "f = open(val_set, 'w')\n",
    "for i in val_idx:\n",
    "    path = os.path.join('data/clean_data', filelist[i])\n",
    "    f.write(path + '\\n')\n",
    "f.close()"
   ]
  },
  {
   "cell_type": "code",
   "execution_count": 55,
   "id": "4c3ab4b6",
   "metadata": {},
   "outputs": [],
   "source": [
    "test_set = 'data/test_set.txt'\n",
    "f = open(test_set, 'w')\n",
    "for i in test_idx:\n",
    "    path = os.path.join('data/clean_data', filelist[i])\n",
    "    f.write(path + '\\n')\n",
    "f.close()"
   ]
  },
  {
   "cell_type": "code",
   "execution_count": null,
   "id": "25a1ff19",
   "metadata": {},
   "outputs": [],
   "source": []
  },
  {
   "cell_type": "code",
   "execution_count": null,
   "id": "70cd1cc8",
   "metadata": {},
   "outputs": [],
   "source": []
  }
 ],
 "metadata": {
  "kernelspec": {
   "display_name": "Python 3 (clean)",
   "language": "python",
   "name": "python3_clean"
  },
  "language_info": {
   "codemirror_mode": {
    "name": "ipython",
    "version": 3
   },
   "file_extension": ".py",
   "mimetype": "text/x-python",
   "name": "python",
   "nbconvert_exporter": "python",
   "pygments_lexer": "ipython3",
   "version": "3.9.5"
  }
 },
 "nbformat": 4,
 "nbformat_minor": 5
}
