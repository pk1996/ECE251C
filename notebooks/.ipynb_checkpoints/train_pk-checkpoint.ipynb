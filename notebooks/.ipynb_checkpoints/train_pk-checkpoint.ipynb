{
 "cells": [
  {
   "cell_type": "code",
   "execution_count": 1,
   "id": "01703ad6",
   "metadata": {},
   "outputs": [],
   "source": [
    "import os\n",
    "import time\n",
    "import numpy as np\n",
    "import matplotlib.pyplot as plt\n",
    "from random import choice, randint\n",
    "from pathlib import Path\n",
    "\n",
    "import importlib\n",
    "from tqdm.notebook import tqdm\n",
    "\n",
    "import torch\n",
    "import torch.nn as nn\n",
    "import torch.nn.functional as F\n",
    "import torch.optim as optim\n",
    "from torch.utils.data import Dataset, DataLoader\n",
    "import pickle\n",
    "\n",
    "import ptwt, pywt\n",
    "\n",
    "from sphfile import SPHFile\n",
    "import librosa\n",
    "import librosa.display\n",
    "import soundfile\n",
    "\n",
    "import dataset\n",
    "from dataset import pickle_stft_data, pickle_stft_data_snr"
   ]
  },
  {
   "cell_type": "code",
   "execution_count": 16,
   "id": "2925cca9",
   "metadata": {},
   "outputs": [
    {
     "data": {
      "text/plain": [
       "<module 'dataset' from '/home/pakumar/teams/ece251c-team-11/code/dataset.py'>"
      ]
     },
     "execution_count": 16,
     "metadata": {},
     "output_type": "execute_result"
    }
   ],
   "source": [
    "importlib.reload(dataset)"
   ]
  },
  {
   "cell_type": "code",
   "execution_count": 4,
   "id": "43c64da4",
   "metadata": {},
   "outputs": [
    {
     "name": "stdout",
     "output_type": "stream",
     "text": [
      "Number of GPU devices: 1\n",
      "GPU device name: GeForce RTX 2080 Ti\n",
      "Memory Usage:\n",
      "Allocated: 0.0 GB\n",
      "Cached:    0.0 GB\n"
     ]
    }
   ],
   "source": [
    "# define device type - cuda:0 or cpu\n",
    "device = torch.device(\"cuda\" if torch.cuda.is_available() else \"cpu\")\n",
    "kwargs = {'num_workers': 4, 'pin_memory': False} if device.type == \"cuda\" else {}\n",
    "\n",
    "# Additional Info when using cuda\n",
    "if device.type == 'cuda':\n",
    "    print(\"Number of GPU devices:\", torch.cuda.device_count())\n",
    "    print(\"GPU device name:\", torch.cuda.get_device_name(0))\n",
    "    print('Memory Usage:')\n",
    "    print('Allocated:', round(torch.cuda.memory_allocated(0)/1024**3, 3), 'GB')\n",
    "    print('Cached:   ', round(torch.cuda.memory_reserved(0)/1024**3, 3), 'GB')"
   ]
  },
  {
   "cell_type": "code",
   "execution_count": 13,
   "id": "d03383e5",
   "metadata": {},
   "outputs": [],
   "source": [
    "TRAIN_BATCH_SIZE = 8\n",
    "TEST_BATCH_SIZE = 1\n",
    "\n",
    "BASE_DIR = Path(os.getcwd()).parent.parent\n",
    "DATA_DIR = BASE_DIR / 'data'"
   ]
  },
  {
   "cell_type": "code",
   "execution_count": 14,
   "id": "1c60dad6",
   "metadata": {},
   "outputs": [
    {
     "data": {
      "text/plain": [
       "PosixPath('/home/pakumar/teams')"
      ]
     },
     "execution_count": 14,
     "metadata": {},
     "output_type": "execute_result"
    }
   ],
   "source": [
    "BASE_DIR"
   ]
  },
  {
   "cell_type": "markdown",
   "id": "62d72a43",
   "metadata": {},
   "source": [
    "## Dataset"
   ]
  },
  {
   "cell_type": "code",
   "execution_count": 6,
   "id": "a32034d8",
   "metadata": {},
   "outputs": [],
   "source": [
    "def plot_spectrogram(stft, title=\"Spectrogtam\"):\n",
    "    fig, ax = plt.subplots()\n",
    "    img = librosa.display.specshow(librosa.amplitude_to_db(np.abs(stft), ref=np.max), y_axis='log', x_axis='time', ax=ax)\n",
    "    ax.set_title(title)\n",
    "    fig.colorbar(img, ax=ax, format=\"%+2.0f dB\")"
   ]
  },
  {
   "cell_type": "markdown",
   "id": "156ab378",
   "metadata": {},
   "source": [
    "## Function to load pickle data"
   ]
  },
  {
   "cell_type": "code",
   "execution_count": 7,
   "id": "03dc0de6",
   "metadata": {},
   "outputs": [],
   "source": [
    "def plot_signal_stats(signal_len_lst):\n",
    "    fig = plt.figure(figsize=(16,6))\n",
    "    plt.subplot(1,2,1)\n",
    "    plt.plot(signal_len_lst, linestyle='', marker='.')\n",
    "    plt.xlabel(\"file idx\")\n",
    "    plt.ylabel(\"signal length\")\n",
    "    plt.grid(linestyle='--')\n",
    "\n",
    "    plt.subplot(1,2,2)\n",
    "    counts, bins = np.histogram(signal_len_lst)\n",
    "    plt.hist(bins[:-1], bins, weights=counts)\n",
    "    plt.xlabel(\"signal length\")\n",
    "    plt.ylabel(\"#signals\")\n",
    "    plt.grid(linestyle='--')"
   ]
  },
  {
   "cell_type": "code",
   "execution_count": 12,
   "id": "e62c1abc",
   "metadata": {},
   "outputs": [],
   "source": [
    "def load_pkl_data(split, num_samples):\n",
    "    pkl_file = DATA_DIR / 'pkl_files' / '{}_data'.format(split) / 'clean_mixed_data_snr_{}.pickle'.format(num_samples)\n",
    "    if not pkl_file.is_file():\n",
    "        print('Generating data ...')\n",
    "        signal_len_lst = pickle_stft_data_snr(split, num_samples=num_samples)\n",
    "        plot_signal_stats(signal_len_lst)\n",
    "        \n",
    "    with open(pkl_file, 'rb') as handle:\n",
    "        clean_mixed_data_dict = pickle.load(handle)\n",
    "    \n",
    "    return clean_mixed_data_dict"
   ]
  },
  {
   "cell_type": "code",
   "execution_count": 13,
   "id": "c620cd13",
   "metadata": {},
   "outputs": [],
   "source": [
    "class SpeechDataset(Dataset):\n",
    "    def __init__(self, split='train', num_samples=1000, alpha=0.8):\n",
    "        assert split in ['train', 'val', 'test'], \"Invalid split\"\n",
    "        self.split = split\n",
    "        self.alpha = alpha\n",
    "        self.num_samples = num_samples\n",
    "        self.clean_mixed_data_dict = load_pkl_data(split, num_samples)\n",
    "    \n",
    "    def __len__(self):\n",
    "        return self.num_samples\n",
    "#         return len(self.file_list)\n",
    "    \n",
    "    def __getitem__(self, idx):\n",
    "        stft_clean = self.clean_mixed_data_dict['clean'][idx]\n",
    "        stft_mixed = self.clean_mixed_data_dict['mixed'][idx]\n",
    "        \n",
    "        return stft_clean, stft_mixed"
   ]
  },
  {
   "cell_type": "markdown",
   "id": "1066186a",
   "metadata": {},
   "source": [
    "### Dataset stats"
   ]
  },
  {
   "cell_type": "code",
   "execution_count": 14,
   "id": "c00c1fb2",
   "metadata": {},
   "outputs": [],
   "source": [
    "def dataset_stats(dataloader):\n",
    "    num_batches = len(dataloader)\n",
    "    len_list = []\n",
    "    for itr in range(num_batches):\n",
    "        clean_spec, noisy_spec = next(iter(dataloader))\n",
    "        len_list.append(clean_spec[0].size()[0])\n",
    "    print(clean_spec[0].size())\n",
    "    counts, bins = np.histogram(len_list)\n",
    "    plt.hist(bins[:-1], bins, weights=counts)\n",
    "    plt.xlabel(\"signal length\")\n",
    "    plt.ylabel(\"#signals\")\n",
    "    plt.grid(linestyle='--')\n",
    "    plt.show()"
   ]
  },
  {
   "cell_type": "markdown",
   "id": "440e32a8",
   "metadata": {},
   "source": [
    "### Load training data"
   ]
  },
  {
   "cell_type": "code",
   "execution_count": 18,
   "id": "abdca291",
   "metadata": {},
   "outputs": [
    {
     "name": "stdout",
     "output_type": "stream",
     "text": [
      "Generating data ...\n"
     ]
    },
    {
     "data": {
      "application/vnd.jupyter.widget-view+json": {
       "model_id": "9f49d70a31384996a65578ed36bead50",
       "version_major": 2,
       "version_minor": 0
      },
      "text/plain": [
       "  0%|          | 0/2000 [00:00<?, ?it/s]"
      ]
     },
     "metadata": {},
     "output_type": "display_data"
    },
    {
     "name": "stdout",
     "output_type": "stream",
     "text": [
      "Train dataset size: 250\n",
      "torch.Size([257, 18])\n"
     ]
    },
    {
     "data": {
      "image/png": "[encoded data removed]",
      "text/plain": [
       "<Figure size 1152x432 with 2 Axes>"
      ]
     },
     "metadata": {
      "needs_background": "light"
     },
     "output_type": "display_data"
    }
   ],
   "source": [
    "train_dataset = SpeechDataset('train', num_samples=2000)\n",
    "train_dataloader = DataLoader(train_dataset, batch_size=TRAIN_BATCH_SIZE, collate_fn=dataset.custom_collate_fn)\n",
    "print(\"Train dataset size:\", len(train_dataloader))\n",
    "dataset_stats(train_dataloader)"
   ]
  },
  {
   "cell_type": "markdown",
   "id": "3a129a5b",
   "metadata": {},
   "source": [
    "### Load test data"
   ]
  },
  {
   "cell_type": "code",
   "execution_count": null,
   "id": "0a58cd69",
   "metadata": {},
   "outputs": [],
   "source": [
    "test_dataset = SpeechDataset('test', num_samples=500)\n",
    "test_dataloader = DataLoader(test_dataset, batch_size=TEST_BATCH_SIZE, collate_fn=dataset.custom_collate_fn)\n",
    "print(\"Test dataset size:\", len(test_dataloader))\n",
    "dataset_stats(test_dataloader)"
   ]
  },
  {
   "cell_type": "markdown",
   "id": "b2cb1041",
   "metadata": {},
   "source": [
    "### Define Model"
   ]
  },
  {
   "cell_type": "code",
   "execution_count": 12,
   "id": "bcdfdbc4",
   "metadata": {},
   "outputs": [],
   "source": [
    "class Padding():\n",
    "    @staticmethod\n",
    "    def pad(x, stride):\n",
    "        h, w = x.shape[-2:]\n",
    "\n",
    "        if h % stride > 0:\n",
    "            new_h = h + stride - h % stride\n",
    "        else:\n",
    "            new_h = h\n",
    "        if w % stride > 0:\n",
    "            new_w = w + stride - w % stride\n",
    "        else:\n",
    "            new_w = w\n",
    "        lh, uh = int((new_h-h) / 2), int(new_h-h) - int((new_h-h) / 2)\n",
    "        lw, uw = int((new_w-w) / 2), int(new_w-w) - int((new_w-w) / 2)\n",
    "        pads = (lw, uw, lh, uh)\n",
    "\n",
    "        # zero-padding by default.\n",
    "        # See others at https://pytorch.org/docs/stable/nn.functional.html#torch.nn.functional.pad\n",
    "        out = F.pad(x, pads, \"reflect\")\n",
    "\n",
    "        return out, pads\n",
    "    \n",
    "    @staticmethod\n",
    "    def unpad(x, pad):\n",
    "        if pad[2]+pad[3] > 0:\n",
    "            x = x[:,:,pad[2]:-pad[3],:]\n",
    "        if pad[0]+pad[1] > 0:\n",
    "            x = x[:,:,:,pad[0]:-pad[1]]\n",
    "        return x"
   ]
  },
  {
   "cell_type": "code",
   "execution_count": 13,
   "id": "5646b31a",
   "metadata": {},
   "outputs": [],
   "source": [
    "class WaveletPooling(nn.Module):\n",
    "    def __init__(self, wavelet):\n",
    "        super(WaveletPooling,self).__init__()\n",
    "        self.upsample_ = nn.Upsample(scale_factor=2, mode='nearest')\n",
    "        self.wavelet = wavelet\n",
    "    \n",
    "    def forward(self, x):\n",
    "        bs = x.size()[0]\n",
    "        FORWARD_OUTPUT_ = []\n",
    "        \n",
    "        # loop over input as batching not supported\n",
    "        for k in range(bs):\n",
    "            # coeffiecients - cx1xhxw\n",
    "            coefficients = ptwt.wavedec2(x[k,:,:,:], pywt.Wavelet(self.wavelet),\n",
    "                                        level=2, mode=\"constant\")\n",
    "            # 2nd order DWT\n",
    "            forward_output_ = ptwt.waverec2([coefficients[0], coefficients[1]], pywt.Wavelet(self.wavelet))\n",
    "            \n",
    "            # permute dim - 1xcxhxw\n",
    "            FORWARD_OUTPUT_.append(torch.permute(forward_output_, [1,0,2,3]))\n",
    "        \n",
    "        FORWARD_OUTPUT_ = torch.cat(FORWARD_OUTPUT_, dim = 0)\n",
    "        \n",
    "        if x.shape[-1]/2 != FORWARD_OUTPUT_.shape[-1]:\n",
    "            FORWARD_OUTPUT_ = FORWARD_OUTPUT_[:,:,:,:]\n",
    "        if x.shape[-2]/2 != FORWARD_OUTPUT_.shape[-2]:\n",
    "            FORWARD_OUTPUT_ = FORWARD_OUTPUT_[:,:,:-1,:]\n",
    "        \n",
    "        return FORWARD_OUTPUT_"
   ]
  },
  {
   "cell_type": "code",
   "execution_count": 14,
   "id": "49934820",
   "metadata": {},
   "outputs": [],
   "source": [
    "def wavelet_pooling_hook(module, inp, out):\n",
    "    '''\n",
    "    inp - gradient output from the layer\n",
    "    out - gradient inp to layer \n",
    "    '''    \n",
    "    # Computing gradient using paper.\n",
    "    bs = out[0].size()[0]\n",
    "    BACKWARD_OUTPUT_ = []\n",
    "\n",
    "    # loop over input as batching not supported\n",
    "    for k in range(bs):\n",
    "        ## 1. 1st order DWT\n",
    "        coefficients = ptwt.wavedec2(torch.squeeze(out[0][k]), pywt.Wavelet(\"haar\"),\n",
    "                                        level=1)#, mode=\"constant\")\n",
    "        ## 2. upsample subbands\n",
    "        # LL\n",
    "        upsampled_subbands_ = coefficients\n",
    "        \n",
    "        # LH, HL, HH\n",
    "        upsampled_subbands_.append([])\n",
    "        for k in range(len(coefficients[1])):\n",
    "            upsampled_subbands_[-1].append(module.upsample_(coefficients[1][k]))\n",
    "        upsampled_subbands_[-1] = tuple(upsampled_subbands_[-1])  \n",
    "\n",
    "        ## 3. IDWT\n",
    "        backward_output_ = ptwt.waverec2(upsampled_subbands_, pywt.Wavelet(\"haar\"))\n",
    "        BACKWARD_OUTPUT_.append(backward_output_.permute(1,0,2,3))\n",
    "    \n",
    "    BACKWARD_OUTPUT_ = torch.cat(BACKWARD_OUTPUT_, dim = 0)\n",
    "    \n",
    "    cw = 4-inp[0].shape[2]%4\n",
    "    ch = 4-inp[0].shape[3]%4\n",
    "    \n",
    "    if cw != 4:\n",
    "        BACKWARD_OUTPUT_ = BACKWARD_OUTPUT_[:,:,:-cw,:]\n",
    "    \n",
    "    if ch != 4:\n",
    "        BACKWARD_OUTPUT_ = BACKWARD_OUTPUT_[:,:,:,:-ch]\n",
    "        \n",
    "    BACKWARD_OUTPUT_SHAPE_ = BACKWARD_OUTPUT_.shape\n",
    "    \n",
    "    return [BACKWARD_OUTPUT_]"
   ]
  },
  {
   "cell_type": "code",
   "execution_count": 15,
   "id": "f2f5fe65",
   "metadata": {},
   "outputs": [],
   "source": [
    "class Pooling(nn.Module):\n",
    "    def __init__(self, params):\n",
    "        super().__init__()\n",
    "        if params['pooling'] == 'wavelet':\n",
    "            print('Waveler pooling ....')\n",
    "            self.pool = WaveletPooling(params['wavelet'])\n",
    "        else:\n",
    "            print('Max pooling ....')\n",
    "            self.pool = nn.MaxPool2d(3,2,1)\n",
    "    \n",
    "    def forward(self, x):\n",
    "        return self.pool(x)"
   ]
  },
  {
   "cell_type": "code",
   "execution_count": 16,
   "id": "fcb26ffd",
   "metadata": {},
   "outputs": [],
   "source": [
    "class CausalConvBlock(nn.Module):\n",
    "    def __init__(self, in_channels, out_channels, params):\n",
    "        super().__init__()\n",
    "        self.conv_layer = nn.Conv2d(\n",
    "            in_channels=in_channels,\n",
    "            out_channels=out_channels,\n",
    "            kernel_size=(3, 3),            \n",
    "            padding=(1, 1)\n",
    "        )\n",
    "        self.pool = Pooling(params)\n",
    "        self.norm = nn.BatchNorm2d(num_features=out_channels)\n",
    "        self.activation = nn.ReLU()\n",
    "\n",
    "    def forward(self, x):\n",
    "        \"\"\"\n",
    "        2D Causal convolution.\n",
    "        Args:\n",
    "            x: [batch_size, num_channels, F, T]\n",
    "        Returns:\n",
    "            [B, C, F, T]\n",
    "        \"\"\"\n",
    "        x = self.conv_layer(x)\n",
    "        x = self.pool(x)\n",
    "        x = self.norm(x)\n",
    "        x = self.activation(x)\n",
    "        \n",
    "        return x"
   ]
  },
  {
   "cell_type": "code",
   "execution_count": 17,
   "id": "47ca455a",
   "metadata": {},
   "outputs": [],
   "source": [
    "class CausalTransConvBlock(nn.Module):\n",
    "    def __init__(self, in_channels, out_channels, is_last=False):\n",
    "        super().__init__()\n",
    "        \n",
    "        self.conv = nn.ConvTranspose2d(\n",
    "            in_channels=in_channels,\n",
    "            out_channels=out_channels,\n",
    "            kernel_size=(3, 3),\n",
    "            stride=(2, 2),\n",
    "            padding = (1,1),\n",
    "            output_padding = (1,1)\n",
    "        )\n",
    "        \n",
    "        \n",
    "        self.norm = nn.BatchNorm2d(num_features=out_channels)\n",
    "        if is_last:\n",
    "            self.activation = nn.ReLU()\n",
    "        else:\n",
    "            self.activation = nn.ELU()\n",
    "\n",
    "    def forward(self, x):\n",
    "        \"\"\"\n",
    "        2D Causal convolution.\n",
    "        Args:\n",
    "            x: [B, C, F, T]\n",
    "        Returns:\n",
    "            [B, C, F, T]\n",
    "        \"\"\"\n",
    "        x = self.conv(x)\n",
    "        x = self.norm(x)\n",
    "        x = self.activation(x)\n",
    "        \n",
    "        return x"
   ]
  },
  {
   "cell_type": "code",
   "execution_count": 18,
   "id": "163c8cab",
   "metadata": {},
   "outputs": [],
   "source": [
    "class ConvRecNet(nn.Module):\n",
    "    \"\"\"\n",
    "    Input: [batch size, channels=1, T, n_fft]\n",
    "    Output:[batch size, channels=1, T, n_fft]\n",
    "    \"\"\"\n",
    "    \n",
    "    def __init__(self, params):\n",
    "        super(ConvRecNet, self).__init__()\n",
    "        \n",
    "        # Encoder\n",
    "        self.conv_block_1 = CausalConvBlock(1, 16, params)\n",
    "        self.conv_block_2 = CausalConvBlock(16, 32, params)\n",
    "        self.conv_block_3 = CausalConvBlock(32, 64, params)\n",
    "        self.conv_block_4 = CausalConvBlock(64, 128, params)\n",
    "        self.conv_block_5 = CausalConvBlock(128, 256, params)\n",
    "        \n",
    "        # LSTM\n",
    "        self.lstm_layer = nn.LSTM(input_size=256*9, hidden_size=256*9, num_layers=2, batch_first=True)\n",
    "        \n",
    "        self.tran_conv_block_1 = CausalTransConvBlock(256 + 256, 128)\n",
    "        self.tran_conv_block_2 = CausalTransConvBlock(128 + 128, 64)\n",
    "        self.tran_conv_block_3 = CausalTransConvBlock(64 + 64, 32)\n",
    "        self.tran_conv_block_4 = CausalTransConvBlock(32 + 32, 16)\n",
    "        self.tran_conv_block_5 = CausalTransConvBlock(16 + 16, 1, is_last=True)\n",
    "\n",
    "        \n",
    "    def forward(self, x):\n",
    "        x, pad = Padding.pad(x, 32)\n",
    "        \n",
    "        self.lstm_layer.flatten_parameters()\n",
    "        e1 = self.conv_block_1(x)\n",
    "        e2 = self.conv_block_2(e1)\n",
    "        e3 = self.conv_block_3(e2)\n",
    "        e4 = self.conv_block_4(e3)\n",
    "        e5 = self.conv_block_5(e4)  # [2, 256, 4, 200]\n",
    "        print(e1.shape, e2.shape, e3.shape, e4.shape, e5.shape)\n",
    "        batch_size, n_channels, n_f_bins, n_frame_size = e5.shape\n",
    "\n",
    "        # [2, 256, 4, 200] = [2, 1024, 200] => [2, 200, 1024]\n",
    "        lstm_in = e5.reshape(batch_size, n_channels * n_f_bins, n_frame_size).permute(0, 2, 1)\n",
    "        lstm_out, _ = self.lstm_layer(lstm_in)  # [2, 200, 1024]\n",
    "        lstm_out = lstm_out.permute(0, 2, 1).reshape(batch_size, n_channels, n_f_bins, n_frame_size)  # [2, 256, 4, 200]\n",
    "\n",
    "        d1 = self.tran_conv_block_1(torch.cat((lstm_out, e5), 1))\n",
    "        d2 = self.tran_conv_block_2(torch.cat((d1, e4), 1))\n",
    "        d3 = self.tran_conv_block_3(torch.cat((d2, e3), 1))\n",
    "        d4 = self.tran_conv_block_4(torch.cat((d3, e2), 1))\n",
    "        d5 = self.tran_conv_block_5(torch.cat((d4, e1), 1))\n",
    "        \n",
    "        d5 = Padding.unpad(d5, pad)\n",
    "        return d5"
   ]
  },
  {
   "cell_type": "code",
   "execution_count": 19,
   "id": "cb0afe24",
   "metadata": {},
   "outputs": [],
   "source": [
    "# Model params\n",
    "params = {}\n",
    "params['pooling'] = 'wavelet'\n",
    "params['wavelet'] = 'haar'"
   ]
  },
  {
   "cell_type": "code",
   "execution_count": 20,
   "id": "aabd1457",
   "metadata": {},
   "outputs": [
    {
     "name": "stdout",
     "output_type": "stream",
     "text": [
      "Waveler pooling ....\n",
      "Waveler pooling ....\n",
      "Waveler pooling ....\n",
      "Waveler pooling ....\n",
      "Waveler pooling ....\n"
     ]
    }
   ],
   "source": [
    "model = ConvRecNet(params)\n",
    "model = model.to(device)"
   ]
  },
  {
   "cell_type": "code",
   "execution_count": 21,
   "id": "207e1f19",
   "metadata": {},
   "outputs": [],
   "source": [
    "for name, layer in model.named_modules():\n",
    "    if isinstance(layer, WaveletPooling):\n",
    "        layer.register_full_backward_hook(wavelet_pooling_hook)"
   ]
  },
  {
   "cell_type": "code",
   "execution_count": 22,
   "id": "6ca6d080",
   "metadata": {
    "scrolled": false
   },
   "outputs": [
    {
     "name": "stdout",
     "output_type": "stream",
     "text": [
      "torch.Size([32, 1, 258, 127]) torch.Size([32, 1, 258, 127])\n"
     ]
    }
   ],
   "source": [
    "a = torch.rand((32, 1, 258, 127), device=device)\n",
    "print(a.shape, model(a).shape)"
   ]
  },
  {
   "cell_type": "code",
   "execution_count": 23,
   "id": "038bc162",
   "metadata": {},
   "outputs": [],
   "source": [
    "LR = 1e-3\n",
    "LR_STEP_SIZE = 50   # How often to decrease learning by gamma.\n",
    "GAMMA = 0.1         # LR is multiplied by gamma on schedule\n",
    "\n",
    "loss_criterion = nn.MSELoss().to(device)\n",
    "optimizer = optim.SGD(model.parameters(), lr=LR)\n",
    "scheduler = optim.lr_scheduler.StepLR(optimizer, step_size=LR_STEP_SIZE, gamma=GAMMA)"
   ]
  },
  {
   "cell_type": "code",
   "execution_count": 32,
   "id": "1272dd53",
   "metadata": {},
   "outputs": [
    {
     "data": {
      "application/vnd.jupyter.widget-view+json": {
       "model_id": "fe576d487d1b4101b1015476ccfcf18e",
       "version_major": 2,
       "version_minor": 0
      },
      "text/plain": [
       "  0%|          | 0/50 [00:00<?, ?it/s]"
      ]
     },
     "metadata": {},
     "output_type": "display_data"
    },
    {
     "data": {
      "application/vnd.jupyter.widget-view+json": {
       "model_id": "93cf35b7921a4c23b3ca5e91687f6b62",
       "version_major": 2,
       "version_minor": 0
      },
      "text/plain": [
       "  0%|          | 0/3000 [00:00<?, ?it/s]"
      ]
     },
     "metadata": {},
     "output_type": "display_data"
    },
    {
     "data": {
      "application/vnd.jupyter.widget-view+json": {
       "model_id": "6fd7e865ebb24f3cb854491e4849e715",
       "version_major": 2,
       "version_minor": 0
      },
      "text/plain": [
       "  0%|          | 0/3000 [00:00<?, ?it/s]"
      ]
     },
     "metadata": {},
     "output_type": "display_data"
    },
    {
     "data": {
      "application/vnd.jupyter.widget-view+json": {
       "model_id": "5617c8eb0b814fbda662cfe5a8b024f6",
       "version_major": 2,
       "version_minor": 0
      },
      "text/plain": [
       "  0%|          | 0/3000 [00:00<?, ?it/s]"
      ]
     },
     "metadata": {},
     "output_type": "display_data"
    },
    {
     "data": {
      "application/vnd.jupyter.widget-view+json": {
       "model_id": "f625f9a16c27409fa9de99b9675da4e8",
       "version_major": 2,
       "version_minor": 0
      },
      "text/plain": [
       "  0%|          | 0/3000 [00:00<?, ?it/s]"
      ]
     },
     "metadata": {},
     "output_type": "display_data"
    },
    {
     "data": {
      "application/vnd.jupyter.widget-view+json": {
       "model_id": "e98e009ee9aa45379b7859f3b7cc064e",
       "version_major": 2,
       "version_minor": 0
      },
      "text/plain": [
       "  0%|          | 0/3000 [00:00<?, ?it/s]"
      ]
     },
     "metadata": {},
     "output_type": "display_data"
    },
    {
     "data": {
      "application/vnd.jupyter.widget-view+json": {
       "model_id": "77b36c6fcbfb4f34bec94db880896229",
       "version_major": 2,
       "version_minor": 0
      },
      "text/plain": [
       "  0%|          | 0/3000 [00:00<?, ?it/s]"
      ]
     },
     "metadata": {},
     "output_type": "display_data"
    },
    {
     "data": {
      "application/vnd.jupyter.widget-view+json": {
       "model_id": "46a08a616f6448e79b46fa8211a67353",
       "version_major": 2,
       "version_minor": 0
      },
      "text/plain": [
       "  0%|          | 0/3000 [00:00<?, ?it/s]"
      ]
     },
     "metadata": {},
     "output_type": "display_data"
    },
    {
     "data": {
      "application/vnd.jupyter.widget-view+json": {
       "model_id": "109c3ffdc69f48cab2a2cda33f1e72e0",
       "version_major": 2,
       "version_minor": 0
      },
      "text/plain": [
       "  0%|          | 0/3000 [00:00<?, ?it/s]"
      ]
     },
     "metadata": {},
     "output_type": "display_data"
    },
    {
     "data": {
      "application/vnd.jupyter.widget-view+json": {
       "model_id": "fca3c6be256c42b79cc9f0ecdca36053",
       "version_major": 2,
       "version_minor": 0
      },
      "text/plain": [
       "  0%|          | 0/3000 [00:00<?, ?it/s]"
      ]
     },
     "metadata": {},
     "output_type": "display_data"
    },
    {
     "data": {
      "application/vnd.jupyter.widget-view+json": {
       "model_id": "788c12b811ee41fa845de56a8f8242c3",
       "version_major": 2,
       "version_minor": 0
      },
      "text/plain": [
       "  0%|          | 0/3000 [00:00<?, ?it/s]"
      ]
     },
     "metadata": {},
     "output_type": "display_data"
    },
    {
     "data": {
      "application/vnd.jupyter.widget-view+json": {
       "model_id": "2ddaa7fb92654519bb2e3afa9b89fbb1",
       "version_major": 2,
       "version_minor": 0
      },
      "text/plain": [
       "  0%|          | 0/3000 [00:00<?, ?it/s]"
      ]
     },
     "metadata": {},
     "output_type": "display_data"
    },
    {
     "data": {
      "application/vnd.jupyter.widget-view+json": {
       "model_id": "ac1446a022584e2e9b427832902ce84f",
       "version_major": 2,
       "version_minor": 0
      },
      "text/plain": [
       "  0%|          | 0/3000 [00:00<?, ?it/s]"
      ]
     },
     "metadata": {},
     "output_type": "display_data"
    },
    {
     "data": {
      "application/vnd.jupyter.widget-view+json": {
       "model_id": "5427fee40b284fe3b67fcdf9905cec77",
       "version_major": 2,
       "version_minor": 0
      },
      "text/plain": [
       "  0%|          | 0/3000 [00:00<?, ?it/s]"
      ]
     },
     "metadata": {},
     "output_type": "display_data"
    },
    {
     "data": {
      "application/vnd.jupyter.widget-view+json": {
       "model_id": "a9b23a395ed74d32942f917f57907208",
       "version_major": 2,
       "version_minor": 0
      },
      "text/plain": [
       "  0%|          | 0/3000 [00:00<?, ?it/s]"
      ]
     },
     "metadata": {},
     "output_type": "display_data"
    },
    {
     "data": {
      "application/vnd.jupyter.widget-view+json": {
       "model_id": "8bea41eaaeb64df8b3c44a04ac1e7abf",
       "version_major": 2,
       "version_minor": 0
      },
      "text/plain": [
       "  0%|          | 0/3000 [00:00<?, ?it/s]"
      ]
     },
     "metadata": {},
     "output_type": "display_data"
    },
    {
     "data": {
      "application/vnd.jupyter.widget-view+json": {
       "model_id": "7dc08ccf7914473e8f7f1906f038f6e9",
       "version_major": 2,
       "version_minor": 0
      },
      "text/plain": [
       "  0%|          | 0/3000 [00:00<?, ?it/s]"
      ]
     },
     "metadata": {},
     "output_type": "display_data"
    },
    {
     "data": {
      "application/vnd.jupyter.widget-view+json": {
       "model_id": "aff37105b6f84085875edafe1e99ffb8",
       "version_major": 2,
       "version_minor": 0
      },
      "text/plain": [
       "  0%|          | 0/3000 [00:00<?, ?it/s]"
      ]
     },
     "metadata": {},
     "output_type": "display_data"
    },
    {
     "data": {
      "application/vnd.jupyter.widget-view+json": {
       "model_id": "c99916cc85764b34ab6ec61035560f18",
       "version_major": 2,
       "version_minor": 0
      },
      "text/plain": [
       "  0%|          | 0/3000 [00:00<?, ?it/s]"
      ]
     },
     "metadata": {},
     "output_type": "display_data"
    },
    {
     "data": {
      "application/vnd.jupyter.widget-view+json": {
       "model_id": "9d9840bab8314291b089c55035fc4b90",
       "version_major": 2,
       "version_minor": 0
      },
      "text/plain": [
       "  0%|          | 0/3000 [00:00<?, ?it/s]"
      ]
     },
     "metadata": {},
     "output_type": "display_data"
    },
    {
     "data": {
      "application/vnd.jupyter.widget-view+json": {
       "model_id": "8205a68b6e3248518c353de0143a5849",
       "version_major": 2,
       "version_minor": 0
      },
      "text/plain": [
       "  0%|          | 0/3000 [00:00<?, ?it/s]"
      ]
     },
     "metadata": {},
     "output_type": "display_data"
    },
    {
     "data": {
      "application/vnd.jupyter.widget-view+json": {
       "model_id": "f96cc52482b24aa68b0b1f97730f4e58",
       "version_major": 2,
       "version_minor": 0
      },
      "text/plain": [
       "  0%|          | 0/3000 [00:00<?, ?it/s]"
      ]
     },
     "metadata": {},
     "output_type": "display_data"
    },
    {
     "data": {
      "application/vnd.jupyter.widget-view+json": {
       "model_id": "affe4cc1a595464d939a01e698b034eb",
       "version_major": 2,
       "version_minor": 0
      },
      "text/plain": [
       "  0%|          | 0/3000 [00:00<?, ?it/s]"
      ]
     },
     "metadata": {},
     "output_type": "display_data"
    },
    {
     "data": {
      "application/vnd.jupyter.widget-view+json": {
       "model_id": "08d44cf9819f4e159594a21df73fcdd3",
       "version_major": 2,
       "version_minor": 0
      },
      "text/plain": [
       "  0%|          | 0/3000 [00:00<?, ?it/s]"
      ]
     },
     "metadata": {},
     "output_type": "display_data"
    },
    {
     "data": {
      "application/vnd.jupyter.widget-view+json": {
       "model_id": "20c923409d8e440091ba48902edaa5a5",
       "version_major": 2,
       "version_minor": 0
      },
      "text/plain": [
       "  0%|          | 0/3000 [00:00<?, ?it/s]"
      ]
     },
     "metadata": {},
     "output_type": "display_data"
    },
    {
     "data": {
      "application/vnd.jupyter.widget-view+json": {
       "model_id": "d9d4b353613d47638c7ca6bcae054663",
       "version_major": 2,
       "version_minor": 0
      },
      "text/plain": [
       "  0%|          | 0/3000 [00:00<?, ?it/s]"
      ]
     },
     "metadata": {},
     "output_type": "display_data"
    },
    {
     "data": {
      "application/vnd.jupyter.widget-view+json": {
       "model_id": "5ada06b677034b69888066f1e529e35e",
       "version_major": 2,
       "version_minor": 0
      },
      "text/plain": [
       "  0%|          | 0/3000 [00:00<?, ?it/s]"
      ]
     },
     "metadata": {},
     "output_type": "display_data"
    },
    {
     "data": {
      "application/vnd.jupyter.widget-view+json": {
       "model_id": "e8f939d4d5554d2c86ec00ed83e57dce",
       "version_major": 2,
       "version_minor": 0
      },
      "text/plain": [
       "  0%|          | 0/3000 [00:00<?, ?it/s]"
      ]
     },
     "metadata": {},
     "output_type": "display_data"
    },
    {
     "data": {
      "application/vnd.jupyter.widget-view+json": {
       "model_id": "646d21c5b23846fdb094a3575e9f8993",
       "version_major": 2,
       "version_minor": 0
      },
      "text/plain": [
       "  0%|          | 0/3000 [00:00<?, ?it/s]"
      ]
     },
     "metadata": {},
     "output_type": "display_data"
    },
    {
     "data": {
      "application/vnd.jupyter.widget-view+json": {
       "model_id": "30b036747412494cbaecfcda46914067",
       "version_major": 2,
       "version_minor": 0
      },
      "text/plain": [
       "  0%|          | 0/3000 [00:00<?, ?it/s]"
      ]
     },
     "metadata": {},
     "output_type": "display_data"
    },
    {
     "data": {
      "application/vnd.jupyter.widget-view+json": {
       "model_id": "b69dec5e02d24d65bcefc1b57c14d5b0",
       "version_major": 2,
       "version_minor": 0
      },
      "text/plain": [
       "  0%|          | 0/3000 [00:00<?, ?it/s]"
      ]
     },
     "metadata": {},
     "output_type": "display_data"
    },
    {
     "data": {
      "application/vnd.jupyter.widget-view+json": {
       "model_id": "c6135fdbc79848fe8cf2161e05ae3d2a",
       "version_major": 2,
       "version_minor": 0
      },
      "text/plain": [
       "  0%|          | 0/3000 [00:00<?, ?it/s]"
      ]
     },
     "metadata": {},
     "output_type": "display_data"
    },
    {
     "data": {
      "application/vnd.jupyter.widget-view+json": {
       "model_id": "58828b21f81a4608bf9c6d50b05fd6ce",
       "version_major": 2,
       "version_minor": 0
      },
      "text/plain": [
       "  0%|          | 0/3000 [00:00<?, ?it/s]"
      ]
     },
     "metadata": {},
     "output_type": "display_data"
    },
    {
     "data": {
      "application/vnd.jupyter.widget-view+json": {
       "model_id": "016695ac86844b6a8cdff01f3a397994",
       "version_major": 2,
       "version_minor": 0
      },
      "text/plain": [
       "  0%|          | 0/3000 [00:00<?, ?it/s]"
      ]
     },
     "metadata": {},
     "output_type": "display_data"
    },
    {
     "data": {
      "application/vnd.jupyter.widget-view+json": {
       "model_id": "5612fa73d8f84335ab4436ac0b9e064e",
       "version_major": 2,
       "version_minor": 0
      },
      "text/plain": [
       "  0%|          | 0/3000 [00:00<?, ?it/s]"
      ]
     },
     "metadata": {},
     "output_type": "display_data"
    },
    {
     "data": {
      "application/vnd.jupyter.widget-view+json": {
       "model_id": "b9b490a2836a4e49929eba09bd8539b8",
       "version_major": 2,
       "version_minor": 0
      },
      "text/plain": [
       "  0%|          | 0/3000 [00:00<?, ?it/s]"
      ]
     },
     "metadata": {},
     "output_type": "display_data"
    },
    {
     "data": {
      "application/vnd.jupyter.widget-view+json": {
       "model_id": "0c3cce105db24d70b5b0adeb9e58a7a2",
       "version_major": 2,
       "version_minor": 0
      },
      "text/plain": [
       "  0%|          | 0/3000 [00:00<?, ?it/s]"
      ]
     },
     "metadata": {},
     "output_type": "display_data"
    },
    {
     "data": {
      "application/vnd.jupyter.widget-view+json": {
       "model_id": "a47dcc13e6504d79bf9c40952745e109",
       "version_major": 2,
       "version_minor": 0
      },
      "text/plain": [
       "  0%|          | 0/3000 [00:00<?, ?it/s]"
      ]
     },
     "metadata": {},
     "output_type": "display_data"
    },
    {
     "data": {
      "application/vnd.jupyter.widget-view+json": {
       "model_id": "0e2668620d584200918604ec3ecde889",
       "version_major": 2,
       "version_minor": 0
      },
      "text/plain": [
       "  0%|          | 0/3000 [00:00<?, ?it/s]"
      ]
     },
     "metadata": {},
     "output_type": "display_data"
    },
    {
     "data": {
      "application/vnd.jupyter.widget-view+json": {
       "model_id": "4c8a4a6d5cf442249bf0698050a45539",
       "version_major": 2,
       "version_minor": 0
      },
      "text/plain": [
       "  0%|          | 0/3000 [00:00<?, ?it/s]"
      ]
     },
     "metadata": {},
     "output_type": "display_data"
    },
    {
     "data": {
      "application/vnd.jupyter.widget-view+json": {
       "model_id": "13202fb15a7749378a3cf977eedd1969",
       "version_major": 2,
       "version_minor": 0
      },
      "text/plain": [
       "  0%|          | 0/3000 [00:00<?, ?it/s]"
      ]
     },
     "metadata": {},
     "output_type": "display_data"
    },
    {
     "data": {
      "application/vnd.jupyter.widget-view+json": {
       "model_id": "56cb21b7966b438682fcf309038267ab",
       "version_major": 2,
       "version_minor": 0
      },
      "text/plain": [
       "  0%|          | 0/3000 [00:00<?, ?it/s]"
      ]
     },
     "metadata": {},
     "output_type": "display_data"
    },
    {
     "data": {
      "application/vnd.jupyter.widget-view+json": {
       "model_id": "322a375bf06e4a0f8d0d447501d4fa75",
       "version_major": 2,
       "version_minor": 0
      },
      "text/plain": [
       "  0%|          | 0/3000 [00:00<?, ?it/s]"
      ]
     },
     "metadata": {},
     "output_type": "display_data"
    },
    {
     "data": {
      "application/vnd.jupyter.widget-view+json": {
       "model_id": "4a7c2a66b17045d1a4425b66248bb834",
       "version_major": 2,
       "version_minor": 0
      },
      "text/plain": [
       "  0%|          | 0/3000 [00:00<?, ?it/s]"
      ]
     },
     "metadata": {},
     "output_type": "display_data"
    },
    {
     "data": {
      "application/vnd.jupyter.widget-view+json": {
       "model_id": "cf255fd9788d4f16949cf38c0e90d128",
       "version_major": 2,
       "version_minor": 0
      },
      "text/plain": [
       "  0%|          | 0/3000 [00:00<?, ?it/s]"
      ]
     },
     "metadata": {},
     "output_type": "display_data"
    },
    {
     "data": {
      "application/vnd.jupyter.widget-view+json": {
       "model_id": "421fd5898191447f85538ceab0aa1399",
       "version_major": 2,
       "version_minor": 0
      },
      "text/plain": [
       "  0%|          | 0/3000 [00:00<?, ?it/s]"
      ]
     },
     "metadata": {},
     "output_type": "display_data"
    },
    {
     "data": {
      "application/vnd.jupyter.widget-view+json": {
       "model_id": "1295490cd31247af94372d945c29b225",
       "version_major": 2,
       "version_minor": 0
      },
      "text/plain": [
       "  0%|          | 0/3000 [00:00<?, ?it/s]"
      ]
     },
     "metadata": {},
     "output_type": "display_data"
    },
    {
     "data": {
      "application/vnd.jupyter.widget-view+json": {
       "model_id": "d30dd4f12bb44ac6a3a50be5ca0de5b1",
       "version_major": 2,
       "version_minor": 0
      },
      "text/plain": [
       "  0%|          | 0/3000 [00:00<?, ?it/s]"
      ]
     },
     "metadata": {},
     "output_type": "display_data"
    },
    {
     "data": {
      "application/vnd.jupyter.widget-view+json": {
       "model_id": "b6a4d4e6dfab41078bb92fc91b0e3bc3",
       "version_major": 2,
       "version_minor": 0
      },
      "text/plain": [
       "  0%|          | 0/3000 [00:00<?, ?it/s]"
      ]
     },
     "metadata": {},
     "output_type": "display_data"
    },
    {
     "data": {
      "application/vnd.jupyter.widget-view+json": {
       "model_id": "290aed6fcbff4ff4aee73bf5e04e23de",
       "version_major": 2,
       "version_minor": 0
      },
      "text/plain": [
       "  0%|          | 0/3000 [00:00<?, ?it/s]"
      ]
     },
     "metadata": {},
     "output_type": "display_data"
    },
    {
     "data": {
      "application/vnd.jupyter.widget-view+json": {
       "model_id": "be2b1660a8b54a08bce44dc37d1f272d",
       "version_major": 2,
       "version_minor": 0
      },
      "text/plain": [
       "  0%|          | 0/3000 [00:00<?, ?it/s]"
      ]
     },
     "metadata": {},
     "output_type": "display_data"
    }
   ],
   "source": [
    "NUM_EPOCHS = 50\n",
    "\n",
    "num_batches = len(train_dataloader)\n",
    "model_save_path = os.path.join(BASE_DIR, \"trained_model_ckpts/checkpoint.pth.tar\")\n",
    "\n",
    "losses = []\n",
    "\n",
    "model.train()     # switch to train mode\n",
    "\n",
    "for epoch in tqdm(range(NUM_EPOCHS)):\n",
    "    for itr in tqdm(range(num_batches)):\n",
    "        clean_spec, noisy_spec = next(iter(train_dataloader))\n",
    "        \n",
    "        clean_spec = clean_spec[0].to(device)\n",
    "        noisy_spec = noisy_spec[0].to(device)\n",
    "        \n",
    "        # compute the magnitude response of clean and noisy spectrograms\n",
    "        clean_spec_mag = torch.abs(clean_spec).type(torch.float)\n",
    "        noisy_spec_mag = torch.abs(noisy_spec).type(torch.float)\n",
    "        noisy_spec_phase = noisy_spec / noisy_spec_mag\n",
    "        \n",
    "        # compute the magnitude response of clean and noisy spectrograms\n",
    "#         clean_spec_mag = torch.unsqueeze(torch.abs(clean_spec[0]), 0)\n",
    "#         clean_spec_mag = torch.unsqueeze(clean_spec_mag, 0).to(device, dtype=torch.float)\n",
    "        \n",
    "#         noisy_spec_mag = torch.unsqueeze(torch.abs(noisy_spec[0]), 0)\n",
    "#         noisy_spec_mag = torch.unsqueeze(noisy_spec_mag, 0).to(device, dtype=torch.float)\n",
    "#         print(clean_spec_mag.shape, noisy_spec_mag.shape)\n",
    "        \n",
    "        model_out = model(noisy_spec_mag.unsqueeze(0).unsqueeze(0))\n",
    "        \n",
    "        loss = loss_criterion(clean_spec_mag.unsqueeze(0).unsqueeze(0), model_out)\n",
    "        \n",
    "        # compute gradient and do SGD step\n",
    "        optimizer.zero_grad()\n",
    "        loss.backward()\n",
    "        optimizer.step()\n",
    "        \n",
    "        losses.append(loss.item())\n",
    "    \n",
    "    torch.save({\n",
    "        'epoch': epoch + 1,\n",
    "        'state_dict': model.state_dict(),\n",
    "        'optimizer': optimizer.state_dict(),\n",
    "    }, model_save_path)"
   ]
  },
  {
   "cell_type": "code",
   "execution_count": 33,
   "id": "3d0b0142",
   "metadata": {},
   "outputs": [
    {
     "data": {
      "image/png": "[encoded data removed]",
      "text/plain": [
       "<Figure size 720x432 with 1 Axes>"
      ]
     },
     "metadata": {
      "needs_background": "light"
     },
     "output_type": "display_data"
    }
   ],
   "source": [
    "fig = plt.figure(figsize=(10,6))\n",
    "plt.plot(losses)\n",
    "plt.xlabel(\"iteration\", fontsize=14)\n",
    "plt.ylabel(\"losses\", fontsize=14)\n",
    "plt.grid(linestyle='--')\n",
    "plt.show()"
   ]
  },
  {
   "cell_type": "code",
   "execution_count": 25,
   "id": "db9ba7c6",
   "metadata": {},
   "outputs": [
    {
     "data": {
      "image/png": "[encoded data removed]",
      "text/plain": [
       "<Figure size 720x432 with 1 Axes>"
      ]
     },
     "metadata": {
      "needs_background": "light"
     },
     "output_type": "display_data"
    }
   ],
   "source": [
    "# Reference older plot\n",
    "# fig = plt.figure(figsize=(10,6))\n",
    "# plt.plot(losses)\n",
    "# plt.xlabel(\"iteration\", fontsize=14)\n",
    "# plt.ylabel(\"losses\", fontsize=14)\n",
    "# plt.grid(linestyle='--')\n",
    "# plt.show()"
   ]
  },
  {
   "cell_type": "markdown",
   "id": "9e1a4862",
   "metadata": {},
   "source": [
    "### Load saved model checkpoint"
   ]
  },
  {
   "cell_type": "code",
   "execution_count": 34,
   "id": "a55fc297",
   "metadata": {},
   "outputs": [
    {
     "data": {
      "text/plain": [
       "<All keys matched successfully>"
      ]
     },
     "execution_count": 34,
     "metadata": {},
     "output_type": "execute_result"
    }
   ],
   "source": [
    "model_save_path = os.path.join(BASE_DIR, \"trained_model_ckpts/checkpoint.pth.tar\")\n",
    "model_checkpoint = torch.load(f=model_save_path)\n",
    "# model = models.get_architecture(model_checkpoint[\"arch\"], args.dataset_name, device)\n",
    "model.load_state_dict(model_checkpoint['state_dict'])"
   ]
  },
  {
   "cell_type": "code",
   "execution_count": 67,
   "id": "fc44eaa0",
   "metadata": {},
   "outputs": [],
   "source": [
    "from pesq import pesq\n",
    "from pystoi import stoi"
   ]
  },
  {
   "cell_type": "code",
   "execution_count": 27,
   "id": "1116278c",
   "metadata": {},
   "outputs": [],
   "source": [
    "# test_dataloader = train_dataloader"
   ]
  },
  {
   "cell_type": "code",
   "execution_count": 65,
   "id": "1fce892d",
   "metadata": {
    "scrolled": true
   },
   "outputs": [
    {
     "data": {
      "application/vnd.jupyter.widget-view+json": {
       "model_id": "8e67fcfe951741b2918d9969ddd8d29c",
       "version_major": 2,
       "version_minor": 0
      },
      "text/plain": [
       "  0%|          | 0/500 [00:00<?, ?it/s]"
      ]
     },
     "metadata": {},
     "output_type": "display_data"
    }
   ],
   "source": [
    "num_batches = len(test_dataloader)\n",
    "error = []\n",
    "pseq = []\n",
    "\n",
    "for itr in tqdm(range(num_batches)):\n",
    "    clean_spec, noisy_spec = next(iter(test_dataloader))\n",
    "    \n",
    "    clean_spec = clean_spec[0].to(device)\n",
    "    noisy_spec = noisy_spec[0].to(device)\n",
    "#     print(clean_spec.shape, noisy_spec.shape)\n",
    "\n",
    "    # compute the magnitude response of clean and noisy spectrograms\n",
    "    clean_spec_mag = torch.abs(clean_spec).type(torch.float)\n",
    "    noisy_spec_mag = torch.abs(noisy_spec).type(torch.float)\n",
    "    noisy_spec_phase = noisy_spec / noisy_spec_mag\n",
    "\n",
    "    model_out = model(noisy_spec_mag.unsqueeze(0).unsqueeze(0))\n",
    "\n",
    "    # combine the model_out(magnitude) and phase to recover partially clean spectrogram\n",
    "    clean_spec_pred = torch.multiply(model_out.squeeze(0).squeeze(0), noisy_spec_phase)\n",
    "#     print(clean_spec_pred.shape, clean_spec_pred.dtype)\n",
    "    \n",
    "    clean_signal_gt = librosa.istft(clean_spec.cpu().detach().numpy(), win_length=512, hop_length=512)\n",
    "    clean_signal_pred = librosa.istft(clean_spec_pred.cpu().detach().numpy(), win_length=512, hop_length=512)\n",
    "#     print(clean_signal_gt.shape, clean_signal_pred.shape)\n",
    "\n",
    "    error.append(np.linalg.norm(clean_signal_gt - clean_signal_pred))\n",
    "    pseq.append(pesq(16000, clean_signal_pred, clean_signal_gt))\n",
    "    test_sign_len.append(len(clean_signal_gt))\n",
    "\n",
    "# error /= num_batches"
   ]
  },
  {
   "cell_type": "code",
   "execution_count": 66,
   "id": "d4edfb13",
   "metadata": {
    "scrolled": true
   },
   "outputs": [
    {
     "name": "stdout",
     "output_type": "stream",
     "text": [
      "MSE - 2869.110860\n",
      "PSEQ - 1.029786\n"
     ]
    }
   ],
   "source": [
    "print(\"MSE - %f\\nPSEQ - %f\" %(sum(error)/len(error), sum(pseq)/len(error)))"
   ]
  },
  {
   "cell_type": "markdown",
   "id": "f4f28468",
   "metadata": {},
   "source": [
    "**Notes** \\\n",
    "1.I think we need to divide the mse for each gt, pred pair by the number of samples. It is basically cumalating the errors and given the signal is of length 61k, it shows up as a big number"
   ]
  },
  {
   "cell_type": "code",
   "execution_count": 69,
   "id": "444ab2cb",
   "metadata": {},
   "outputs": [
    {
     "data": {
      "text/plain": [
       "0.2512067285813216"
      ]
     },
     "execution_count": 69,
     "metadata": {},
     "output_type": "execute_result"
    }
   ],
   "source": [
    "stoi(clean_signal_pred, clean_signal_gt, 16000)"
   ]
  },
  {
   "cell_type": "code",
   "execution_count": 120,
   "id": "b84aceae",
   "metadata": {},
   "outputs": [],
   "source": [
    "noisy_signal = librosa.istft(noisy_spec.cpu().numpy(), win_length=512, hop_length=512)"
   ]
  },
  {
   "cell_type": "code",
   "execution_count": 125,
   "id": "177f1c29",
   "metadata": {},
   "outputs": [
    {
     "name": "stdout",
     "output_type": "stream",
     "text": [
      "10.475200275097983 6.41639476932109e-05\n"
     ]
    }
   ],
   "source": [
    "inputSNR = 10*np.log10(np.average(clean_signal_gt**2)/np.average((noisy_signal-clean_signal_gt)**2))\n",
    "outputSNR = 10*np.log10(np.average(clean_signal_pred**2)/np.average((noisy_signal-clean_signal_pred)**2))\n",
    "print(inputSNR, outputSNR)"
   ]
  },
  {
   "cell_type": "code",
   "execution_count": 126,
   "id": "5c3abd54",
   "metadata": {},
   "outputs": [
    {
     "data": {
      "text/plain": [
       "array([-0.00105849, -0.00644752,  0.00411855, ...,  0.00180336,\n",
       "        0.00086581,  0.00050579])"
      ]
     },
     "execution_count": 126,
     "metadata": {},
     "output_type": "execute_result"
    }
   ],
   "source": [
    "clean_signal_pred"
   ]
  },
  {
   "cell_type": "code",
   "execution_count": 127,
   "id": "c2b31384",
   "metadata": {},
   "outputs": [
    {
     "data": {
      "text/plain": [
       "array([-0.00312179, -0.00355361, -0.00202245, ...,  0.01430902,\n",
       "        0.01717009,  0.01164149])"
      ]
     },
     "execution_count": 127,
     "metadata": {},
     "output_type": "execute_result"
    }
   ],
   "source": [
    "clean_signal_gt"
   ]
  },
  {
   "cell_type": "code",
   "execution_count": 133,
   "id": "024c134c",
   "metadata": {},
   "outputs": [
    {
     "data": {
      "application/vnd.jupyter.widget-view+json": {
       "model_id": "f238289d525b4f80bccdda85c172152b",
       "version_major": 2,
       "version_minor": 0
      },
      "text/plain": [
       "  0%|          | 0/1 [00:00<?, ?it/s]"
      ]
     },
     "metadata": {},
     "output_type": "display_data"
    },
    {
     "name": "stdout",
     "output_type": "stream",
     "text": [
      "0.21563622 -0.22483431\n",
      "SNR -- 4.479288\n"
     ]
    }
   ],
   "source": [
    "importlib.reload(dataset)\n",
    "from dataset import pickle_stft_data\n",
    "signal_len_lst = pickle_stft_data('train', num_samples=1)"
   ]
  },
  {
   "cell_type": "code",
   "execution_count": null,
   "id": "f534f2e6",
   "metadata": {},
   "outputs": [],
   "source": []
  }
 ],
 "metadata": {
  "kernelspec": {
   "display_name": "Python 3 (clean)",
   "language": "python",
   "name": "python3_clean"
  },
  "language_info": {
   "codemirror_mode": {
    "name": "ipython",
    "version": 3
   },
   "file_extension": ".py",
   "mimetype": "text/x-python",
   "name": "python",
   "nbconvert_exporter": "python",
   "pygments_lexer": "ipython3",
   "version": "3.9.5"
  }
 },
 "nbformat": 4,
 "nbformat_minor": 5
}
