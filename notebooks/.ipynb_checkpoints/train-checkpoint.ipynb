{
 "cells": [
  {
   "cell_type": "code",
   "execution_count": 1,
   "id": "01703ad6",
   "metadata": {},
   "outputs": [],
   "source": [
    "import os\n",
    "import time\n",
    "import numpy as np\n",
    "import matplotlib.pyplot as plt\n",
    "from random import choice, randint\n",
    "\n",
    "import importlib\n",
    "from tqdm.notebook import tqdm\n",
    "\n",
    "import torch\n",
    "import torch.nn as nn\n",
    "import torch.optim as optim\n",
    "from torch.utils.data import Dataset, DataLoader\n",
    "import pickle\n",
    "\n",
    "from sphfile import SPHFile\n",
    "import librosa\n",
    "import librosa.display\n",
    "import soundfile\n",
    "\n",
    "import dataset"
   ]
  },
  {
   "cell_type": "code",
   "execution_count": 2,
   "id": "2925cca9",
   "metadata": {},
   "outputs": [
    {
     "data": {
      "text/plain": [
       "<module 'dataset' from '/home/sazim/teams/ece251c-team-11/code/dataset.py'>"
      ]
     },
     "execution_count": 2,
     "metadata": {},
     "output_type": "execute_result"
    }
   ],
   "source": [
    "importlib.reload(dataset)"
   ]
  },
  {
   "cell_type": "code",
   "execution_count": 3,
   "id": "43c64da4",
   "metadata": {},
   "outputs": [
    {
     "name": "stdout",
     "output_type": "stream",
     "text": [
      "Number of GPU devices: 1\n",
      "GPU device name: GeForce GTX 1080 Ti\n",
      "Memory Usage:\n",
      "Allocated: 0.0 GB\n",
      "Cached:    0.0 GB\n"
     ]
    }
   ],
   "source": [
    "# define device type - cuda:0 or cpu\n",
    "device = torch.device(\"cuda\" if torch.cuda.is_available() else \"cpu\")\n",
    "kwargs = {'num_workers': 4, 'pin_memory': False} if device.type == \"cuda\" else {}\n",
    "\n",
    "# Additional Info when using cuda\n",
    "if device.type == 'cuda':\n",
    "    print(\"Number of GPU devices:\", torch.cuda.device_count())\n",
    "    print(\"GPU device name:\", torch.cuda.get_device_name(0))\n",
    "    print('Memory Usage:')\n",
    "    print('Allocated:', round(torch.cuda.memory_allocated(0)/1024**3, 3), 'GB')\n",
    "    print('Cached:   ', round(torch.cuda.memory_reserved(0)/1024**3, 3), 'GB')"
   ]
  },
  {
   "cell_type": "code",
   "execution_count": 4,
   "id": "d03383e5",
   "metadata": {},
   "outputs": [],
   "source": [
    "TRAIN_BATCH_SIZE = 1\n",
    "TEST_BATCH_SIZE = 1\n",
    "\n",
    "BASE_DIR = os.path.join(os.getcwd(), '../')\n",
    "DATA_DIR = os.path.join(os.getcwd(), '../data')"
   ]
  },
  {
   "cell_type": "markdown",
   "id": "62d72a43",
   "metadata": {},
   "source": [
    "## Dataset"
   ]
  },
  {
   "cell_type": "code",
   "execution_count": 5,
   "id": "a32034d8",
   "metadata": {},
   "outputs": [],
   "source": [
    "def plot_spectrogram(stft, title=\"Spectrogtam\"):\n",
    "    fig, ax = plt.subplots()\n",
    "    img = librosa.display.specshow(librosa.amplitude_to_db(np.abs(stft), ref=np.max), y_axis='log', x_axis='time', ax=ax)\n",
    "    ax.set_title(title)\n",
    "    fig.colorbar(img, ax=ax, format=\"%+2.0f dB\")"
   ]
  },
  {
   "cell_type": "markdown",
   "id": "156ab378",
   "metadata": {},
   "source": [
    "## Function to load pickle data"
   ]
  },
  {
   "cell_type": "code",
   "execution_count": 6,
   "id": "e62c1abc",
   "metadata": {},
   "outputs": [],
   "source": [
    "def load_pkl_data(split, num_samples):\n",
    "    with open(os.path.join(DATA_DIR, 'pkl_files/%s_data/clean_mixed_data_%d.pickle'%(split, num_samples)), 'rb') as handle:\n",
    "        clean_mixed_data_dict = pickle.load(handle)\n",
    "    \n",
    "    return clean_mixed_data_dict"
   ]
  },
  {
   "cell_type": "code",
   "execution_count": 21,
   "id": "c620cd13",
   "metadata": {},
   "outputs": [],
   "source": [
    "class SpeechDataset(Dataset):\n",
    "    def __init__(self, split='train', num_samples=1000, alpha=0.8):\n",
    "        assert split in ['train', 'val', 'test'], \"Invalid split\"\n",
    "        self.split = split\n",
    "        self.alpha = alpha\n",
    "        self.num_samples = num_samples\n",
    "        self.clean_mixed_data_dict = load_pkl_data(split, num_samples)\n",
    "    \n",
    "    def __len__(self):\n",
    "        return self.num_samples\n",
    "#         return len(self.file_list)\n",
    "    \n",
    "    def __getitem__(self, idx):\n",
    "        stft_clean = self.clean_mixed_data_dict['clean'][idx]\n",
    "        stft_mixed = self.clean_mixed_data_dict['mixed'][idx]\n",
    "        \n",
    "        return stft_clean, stft_mixed"
   ]
  },
  {
   "cell_type": "markdown",
   "id": "440e32a8",
   "metadata": {},
   "source": [
    "### Load training data"
   ]
  },
  {
   "cell_type": "code",
   "execution_count": 8,
   "id": "abdca291",
   "metadata": {},
   "outputs": [
    {
     "name": "stdout",
     "output_type": "stream",
     "text": [
      "Train dataset size: 2000\n"
     ]
    }
   ],
   "source": [
    "train_dataset = SpeechDataset('train', num_samples=2000)\n",
    "train_dataloader = DataLoader(train_dataset, batch_size=TRAIN_BATCH_SIZE, collate_fn=dataset.custom_collate_fn)\n",
    "print(\"Train dataset size:\", len(train_dataloader))"
   ]
  },
  {
   "cell_type": "markdown",
   "id": "3a129a5b",
   "metadata": {},
   "source": [
    "### Load test data"
   ]
  },
  {
   "cell_type": "code",
   "execution_count": 9,
   "id": "0a58cd69",
   "metadata": {},
   "outputs": [
    {
     "name": "stdout",
     "output_type": "stream",
     "text": [
      "Test dataset size: 1000\n"
     ]
    }
   ],
   "source": [
    "test_dataset = SpeechDataset('test', num_samples=1000)\n",
    "test_dataloader = DataLoader(test_dataset, batch_size=TEST_BATCH_SIZE, collate_fn=dataset.custom_collate_fn)\n",
    "print(\"Test dataset size:\", len(test_dataloader))"
   ]
  },
  {
   "cell_type": "markdown",
   "id": "b2cb1041",
   "metadata": {},
   "source": [
    "### Define Model"
   ]
  },
  {
   "cell_type": "code",
   "execution_count": 10,
   "id": "fcb26ffd",
   "metadata": {},
   "outputs": [],
   "source": [
    "class CausalConvBlock(nn.Module):\n",
    "    def __init__(self, in_channels, out_channels):\n",
    "        super().__init__()\n",
    "        self.conv_layer = nn.Conv2d(\n",
    "            in_channels=in_channels,\n",
    "            out_channels=out_channels,\n",
    "            kernel_size=(3, 3),\n",
    "            \n",
    "            stride=(2, 1),\n",
    "            padding=(0, 1)\n",
    "        )\n",
    "        \n",
    "        self.norm = nn.BatchNorm2d(num_features=out_channels)\n",
    "        self.activation = nn.ReLU()\n",
    "\n",
    "    def forward(self, x):\n",
    "        \"\"\"\n",
    "        2D Causal convolution.\n",
    "        Args:\n",
    "            x: [batch_size, num_channels, F, T]\n",
    "        Returns:\n",
    "            [B, C, F, T]\n",
    "        \"\"\"\n",
    "        x = self.conv_layer(x)\n",
    "#         x = x[:, :, :, :-1]  # chomp size\n",
    "        x = self.norm(x)\n",
    "        x = self.activation(x)\n",
    "        \n",
    "        return x"
   ]
  },
  {
   "cell_type": "code",
   "execution_count": 11,
   "id": "47ca455a",
   "metadata": {},
   "outputs": [],
   "source": [
    "class CausalTransConvBlock(nn.Module):\n",
    "    def __init__(self, in_channels, out_channels, is_last=False, output_padding=(0, 0)):\n",
    "        super().__init__()\n",
    "        \n",
    "        self.conv = nn.ConvTranspose2d(\n",
    "            in_channels=in_channels,\n",
    "            out_channels=out_channels,\n",
    "            kernel_size=(3, 3),\n",
    "            stride=(2, 1),\n",
    "            output_padding=output_padding\n",
    "        \n",
    "        )\n",
    "        \n",
    "        self.norm = nn.BatchNorm2d(num_features=out_channels)\n",
    "        if is_last:\n",
    "            self.activation = nn.ReLU()\n",
    "        else:\n",
    "            self.activation = nn.ELU()\n",
    "\n",
    "    def forward(self, x):\n",
    "        \"\"\"\n",
    "        2D Causal convolution.\n",
    "        Args:\n",
    "            x: [B, C, F, T]\n",
    "        Returns:\n",
    "            [B, C, F, T]\n",
    "        \"\"\"\n",
    "        x = self.conv(x)\n",
    "        x = x[:, :, :, :-2]  # chomp size\n",
    "        x = self.norm(x)\n",
    "        x = self.activation(x)\n",
    "        \n",
    "        return x"
   ]
  },
  {
   "cell_type": "code",
   "execution_count": 12,
   "id": "163c8cab",
   "metadata": {},
   "outputs": [],
   "source": [
    "class ConvRecNet(nn.Module):\n",
    "    \"\"\"\n",
    "    Input: [batch size, channels=1, T, n_fft]\n",
    "    Output:[batch size, channels=1, T, n_fft]\n",
    "    \"\"\"\n",
    "    \n",
    "    def __init__(self):\n",
    "        super(ConvRecNet, self).__init__()\n",
    "        \n",
    "        # Encoder\n",
    "        self.conv_block_1 = CausalConvBlock(1, 16)\n",
    "        self.conv_block_2 = CausalConvBlock(16, 32)\n",
    "        self.conv_block_3 = CausalConvBlock(32, 64)\n",
    "        self.conv_block_4 = CausalConvBlock(64, 128)\n",
    "        self.conv_block_5 = CausalConvBlock(128, 256)\n",
    "        \n",
    "        # LSTM\n",
    "        self.lstm_layer = nn.LSTM(input_size=256*7, hidden_size=256*7, num_layers=2, batch_first=True)\n",
    "        \n",
    "        self.tran_conv_block_1 = CausalTransConvBlock(256 + 256, 128)\n",
    "        self.tran_conv_block_2 = CausalTransConvBlock(128 + 128, 64)\n",
    "        self.tran_conv_block_3 = CausalTransConvBlock(64 + 64, 32)\n",
    "        self.tran_conv_block_4 = CausalTransConvBlock(32 + 32, 16, output_padding=(1, 0))\n",
    "        self.tran_conv_block_5 = CausalTransConvBlock(16 + 16, 1, is_last=True)\n",
    "\n",
    "        \n",
    "    def forward(self, x):\n",
    "        self.lstm_layer.flatten_parameters()\n",
    "#         print(x.shape)\n",
    "\n",
    "        e1 = self.conv_block_1(x)\n",
    "        e2 = self.conv_block_2(e1)\n",
    "        e3 = self.conv_block_3(e2)\n",
    "        e4 = self.conv_block_4(e3)\n",
    "        e5 = self.conv_block_5(e4)  # [2, 256, 4, 200]\n",
    "#         print(e5.shape)\n",
    "#         e5 = e4\n",
    "\n",
    "        batch_size, n_channels, n_f_bins, n_frame_size = e5.shape\n",
    "\n",
    "        # [2, 256, 4, 200] = [2, 1024, 200] => [2, 200, 1024]\n",
    "        lstm_in = e5.reshape(batch_size, n_channels * n_f_bins, n_frame_size).permute(0, 2, 1)\n",
    "        lstm_out, _ = self.lstm_layer(lstm_in)  # [2, 200, 1024]\n",
    "        lstm_out = lstm_out.permute(0, 2, 1).reshape(batch_size, n_channels, n_f_bins, n_frame_size)  # [2, 256, 4, 200]\n",
    "\n",
    "#         d1 = lstm_out\n",
    "        d1 = self.tran_conv_block_1(torch.cat((lstm_out, e5), 1))\n",
    "        d2 = self.tran_conv_block_2(torch.cat((d1, e4), 1))\n",
    "        d3 = self.tran_conv_block_3(torch.cat((d2, e3), 1))\n",
    "        d4 = self.tran_conv_block_4(torch.cat((d3, e2), 1))\n",
    "        d5 = self.tran_conv_block_5(torch.cat((d4, e1), 1))\n",
    "        \n",
    "        return d5"
   ]
  },
  {
   "cell_type": "code",
   "execution_count": 13,
   "id": "aabd1457",
   "metadata": {},
   "outputs": [],
   "source": [
    "model = ConvRecNet()\n",
    "model = model.to(device)"
   ]
  },
  {
   "cell_type": "code",
   "execution_count": 38,
   "id": "6ca6d080",
   "metadata": {},
   "outputs": [
    {
     "name": "stdout",
     "output_type": "stream",
     "text": [
      "torch.Size([1, 256, 7, 127])\n",
      "torch.Size([1, 1, 257, 127]) torch.Size([1, 1, 257, 127])\n"
     ]
    }
   ],
   "source": [
    "a = torch.rand((1, 1, 257, 127), device=device)\n",
    "print(a.shape, model(a).shape)"
   ]
  },
  {
   "cell_type": "code",
   "execution_count": 14,
   "id": "038bc162",
   "metadata": {},
   "outputs": [],
   "source": [
    "LR = 1e-3\n",
    "LR_STEP_SIZE = 50   # How often to decrease learning by gamma.\n",
    "GAMMA = 0.1         # LR is multiplied by gamma on schedule\n",
    "\n",
    "loss_criterion = nn.MSELoss().to(device)\n",
    "optimizer = optim.SGD(model.parameters(), lr=LR)\n",
    "scheduler = optim.lr_scheduler.StepLR(optimizer, step_size=LR_STEP_SIZE, gamma=GAMMA)"
   ]
  },
  {
   "cell_type": "code",
   "execution_count": 15,
   "id": "1272dd53",
   "metadata": {},
   "outputs": [
    {
     "data": {
      "application/vnd.jupyter.widget-view+json": {
       "model_id": "bdfe063c09744b15b898eecd49dfd88b",
       "version_major": 2,
       "version_minor": 0
      },
      "text/plain": [
       "  0%|          | 0/5 [00:00<?, ?it/s]"
      ]
     },
     "metadata": {},
     "output_type": "display_data"
    },
    {
     "data": {
      "application/vnd.jupyter.widget-view+json": {
       "model_id": "40fb3b3def9c46999148d1b9a77ef3a7",
       "version_major": 2,
       "version_minor": 0
      },
      "text/plain": [
       "  0%|          | 0/2000 [00:00<?, ?it/s]"
      ]
     },
     "metadata": {},
     "output_type": "display_data"
    },
    {
     "data": {
      "application/vnd.jupyter.widget-view+json": {
       "model_id": "9e55e2129e2648998a15907d4902dbca",
       "version_major": 2,
       "version_minor": 0
      },
      "text/plain": [
       "  0%|          | 0/2000 [00:00<?, ?it/s]"
      ]
     },
     "metadata": {},
     "output_type": "display_data"
    },
    {
     "data": {
      "application/vnd.jupyter.widget-view+json": {
       "model_id": "7d0f1f516cae427a9cbf5492947c9a0f",
       "version_major": 2,
       "version_minor": 0
      },
      "text/plain": [
       "  0%|          | 0/2000 [00:00<?, ?it/s]"
      ]
     },
     "metadata": {},
     "output_type": "display_data"
    },
    {
     "data": {
      "application/vnd.jupyter.widget-view+json": {
       "model_id": "bd21cb4b7fe84403bb7db0186287490a",
       "version_major": 2,
       "version_minor": 0
      },
      "text/plain": [
       "  0%|          | 0/2000 [00:00<?, ?it/s]"
      ]
     },
     "metadata": {},
     "output_type": "display_data"
    },
    {
     "data": {
      "application/vnd.jupyter.widget-view+json": {
       "model_id": "83ae84dffb334e4da246ed0d8ca37e62",
       "version_major": 2,
       "version_minor": 0
      },
      "text/plain": [
       "  0%|          | 0/2000 [00:00<?, ?it/s]"
      ]
     },
     "metadata": {},
     "output_type": "display_data"
    }
   ],
   "source": [
    "NUM_EPOCHS = 5\n",
    "\n",
    "num_batches = len(train_dataloader)\n",
    "model_save_path = os.path.join(BASE_DIR, \"trained_model_ckpts/checkpoint.pth.tar\")\n",
    "\n",
    "losses = []\n",
    "\n",
    "model.train()     # switch to train mode\n",
    "\n",
    "for epoch in tqdm(range(NUM_EPOCHS)):\n",
    "    for itr in tqdm(range(num_batches)):\n",
    "        clean_spec, noisy_spec = next(iter(train_dataloader))\n",
    "        \n",
    "        clean_spec = clean_spec[0].to(device)\n",
    "        noisy_spec = noisy_spec[0].to(device)\n",
    "        \n",
    "        # compute the magnitude response of clean and noisy spectrograms\n",
    "        clean_spec_mag = torch.abs(clean_spec).type(torch.float)\n",
    "        noisy_spec_mag = torch.abs(noisy_spec).type(torch.float)\n",
    "        noisy_spec_phase = noisy_spec / noisy_spec_mag\n",
    "        \n",
    "        # compute the magnitude response of clean and noisy spectrograms\n",
    "#         clean_spec_mag = torch.unsqueeze(torch.abs(clean_spec[0]), 0)\n",
    "#         clean_spec_mag = torch.unsqueeze(clean_spec_mag, 0).to(device, dtype=torch.float)\n",
    "        \n",
    "#         noisy_spec_mag = torch.unsqueeze(torch.abs(noisy_spec[0]), 0)\n",
    "#         noisy_spec_mag = torch.unsqueeze(noisy_spec_mag, 0).to(device, dtype=torch.float)\n",
    "#         print(clean_spec_mag.shape, noisy_spec_mag.shape)\n",
    "        \n",
    "        model_out = model(noisy_spec_mag.unsqueeze(0).unsqueeze(0))\n",
    "        \n",
    "        loss = loss_criterion(clean_spec_mag.unsqueeze(0).unsqueeze(0), model_out)\n",
    "        \n",
    "        # compute gradient and do SGD step\n",
    "        optimizer.zero_grad()\n",
    "        loss.backward()\n",
    "        optimizer.step()\n",
    "        \n",
    "        losses.append(loss.item())\n",
    "    \n",
    "    torch.save({\n",
    "        'epoch': epoch + 1,\n",
    "        'state_dict': model.state_dict(),\n",
    "        'optimizer': optimizer.state_dict(),\n",
    "    }, model_save_path)"
   ]
  },
  {
   "cell_type": "code",
   "execution_count": 16,
   "id": "db9ba7c6",
   "metadata": {},
   "outputs": [
    {
     "data": {
      "image/png": "[encoded data removed]",
      "text/plain": [
       "<Figure size 720x432 with 1 Axes>"
      ]
     },
     "metadata": {
      "needs_background": "light"
     },
     "output_type": "display_data"
    }
   ],
   "source": [
    "fig = plt.figure(figsize=(10,6))\n",
    "plt.plot(losses)\n",
    "plt.xlabel(\"iteration\", fontsize=14)\n",
    "plt.ylabel(\"losses\", fontsize=14)\n",
    "plt.grid(linestyle='--')\n",
    "plt.show()"
   ]
  },
  {
   "cell_type": "markdown",
   "id": "9e1a4862",
   "metadata": {},
   "source": [
    "### Load saved model checkpoint"
   ]
  },
  {
   "cell_type": "code",
   "execution_count": 15,
   "id": "a55fc297",
   "metadata": {},
   "outputs": [
    {
     "data": {
      "text/plain": [
       "<All keys matched successfully>"
      ]
     },
     "execution_count": 15,
     "metadata": {},
     "output_type": "execute_result"
    }
   ],
   "source": [
    "model_save_path = os.path.join(BASE_DIR, \"trained_model_ckpts/checkpoint.pth.tar\")\n",
    "model_checkpoint = torch.load(f=model_save_path)\n",
    "# model = models.get_architecture(model_checkpoint[\"arch\"], args.dataset_name, device)\n",
    "model.load_state_dict(model_checkpoint['state_dict'])"
   ]
  },
  {
   "cell_type": "code",
   "execution_count": 17,
   "id": "1fce892d",
   "metadata": {},
   "outputs": [
    {
     "data": {
      "application/vnd.jupyter.widget-view+json": {
       "model_id": "a7ded3cd8980449a9aa3a36a2af6267a",
       "version_major": 2,
       "version_minor": 0
      },
      "text/plain": [
       "  0%|          | 0/1000 [00:00<?, ?it/s]"
      ]
     },
     "metadata": {},
     "output_type": "display_data"
    }
   ],
   "source": [
    "num_batches = len(test_dataloader)\n",
    "error = 0\n",
    "\n",
    "for itr in tqdm(range(num_batches)):\n",
    "    clean_spec, noisy_spec = next(iter(test_dataloader))\n",
    "    \n",
    "    clean_spec = clean_spec[0].to(device)\n",
    "    noisy_spec = noisy_spec[0].to(device)\n",
    "#     print(clean_spec.shape, noisy_spec.shape)\n",
    "\n",
    "    # compute the magnitude response of clean and noisy spectrograms\n",
    "    clean_spec_mag = torch.abs(clean_spec).type(torch.float)\n",
    "    noisy_spec_mag = torch.abs(noisy_spec).type(torch.float)\n",
    "    noisy_spec_phase = noisy_spec / noisy_spec_mag\n",
    "\n",
    "    model_out = model(noisy_spec_mag.unsqueeze(0).unsqueeze(0))\n",
    "\n",
    "    # combine the model_out(magnitude) and phase to recover partially clean spectrogram\n",
    "    clean_spec_pred = torch.multiply(model_out.squeeze(0).squeeze(0), noisy_spec_phase)\n",
    "#     print(clean_spec_pred.shape, clean_spec_pred.dtype)\n",
    "    \n",
    "    clean_signal_gt = librosa.istft(clean_spec.cpu().detach().numpy(), win_length=512, hop_length=512)\n",
    "    clean_signal_pred = librosa.istft(clean_spec_pred.cpu().detach().numpy(), win_length=512, hop_length=512)\n",
    "#     print(clean_signal_gt.shape, clean_signal_pred.shape)\n",
    "\n",
    "    error += np.linalg.norm(clean_signal_gt - clean_signal_pred)\n",
    "\n",
    "error /= num_batches"
   ]
  },
  {
   "cell_type": "code",
   "execution_count": 18,
   "id": "0126ba0e",
   "metadata": {},
   "outputs": [
    {
     "data": {
      "text/plain": [
       "1229.7272199564"
      ]
     },
     "execution_count": 18,
     "metadata": {},
     "output_type": "execute_result"
    }
   ],
   "source": [
    "error"
   ]
  }
 ],
 "metadata": {
  "kernelspec": {
   "display_name": "Python 3 (clean)",
   "language": "python",
   "name": "python3_clean"
  },
  "language_info": {
   "codemirror_mode": {
    "name": "ipython",
    "version": 3
   },
   "file_extension": ".py",
   "mimetype": "text/x-python",
   "name": "python",
   "nbconvert_exporter": "python",
   "pygments_lexer": "ipython3",
   "version": "3.9.5"
  }
 },
 "nbformat": 4,
 "nbformat_minor": 5
}
