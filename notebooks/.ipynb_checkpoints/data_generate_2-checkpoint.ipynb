{
 "cells": [
  {
   "cell_type": "code",
   "execution_count": 1,
   "id": "5e4cb3b0",
   "metadata": {},
   "outputs": [],
   "source": [
    "import os\n",
    "import time\n",
    "import argparse\n",
    "from random import choice, randint\n",
    "import numpy as np\n",
    "import matplotlib.pyplot as plt\n",
    "from tqdm.notebook import tqdm\n",
    "\n",
    "from sphfile import SPHFile\n",
    "import librosa\n",
    "\n",
    "import torch\n",
    "from torch.utils.data import Dataset, DataLoader\n",
    "import pickle"
   ]
  },
  {
   "cell_type": "code",
   "execution_count": 9,
   "id": "ed499243",
   "metadata": {},
   "outputs": [],
   "source": [
    "def compute_stft(audio_data, win_length=2048, hop_length=512, n_fft=2048):\n",
    "    '''\n",
    "    Helper method to compute the Short Time Fourier Transform\n",
    "    '''\n",
    "    return librosa.stft(audio_data, win_length=win_length, hop_length=hop_length, n_fft=n_fft)"
   ]
  },
  {
   "cell_type": "code",
   "execution_count": 10,
   "id": "b17f2876",
   "metadata": {},
   "outputs": [],
   "source": [
    "BASE_DIR = os.path.join(os.getcwd(), '../')\n",
    "DATA_DIR = os.path.join(os.getcwd(), '../data')"
   ]
  },
  {
   "cell_type": "code",
   "execution_count": 13,
   "id": "69a8df82",
   "metadata": {},
   "outputs": [],
   "source": [
    "num_samples = 1\n",
    "split = 'train'\n",
    "alpha = 0.8\n",
    "snr = 15\n",
    "k = 512"
   ]
  },
  {
   "cell_type": "code",
   "execution_count": 15,
   "id": "07334bab",
   "metadata": {},
   "outputs": [
    {
     "data": {
      "application/vnd.jupyter.widget-view+json": {
       "model_id": "f9195f6de1d44dca9c3116264992385a",
       "version_major": 2,
       "version_minor": 0
      },
      "text/plain": [
       "  0%|          | 0/1 [00:00<?, ?it/s]"
      ]
     },
     "metadata": {},
     "output_type": "display_data"
    },
    {
     "name": "stdout",
     "output_type": "stream",
     "text": [
      "SNR -- 15.000000\n"
     ]
    }
   ],
   "source": [
    "def pickle_stft_data_snr(split, num_samples=1000, alpha=0.8, k=512):\n",
    "    '''\n",
    "    Samples a random SNR in [15,20] and generates noisy signal accordingly.\n",
    "    '''\n",
    "    signal_len_lst = []\n",
    "\n",
    "    noise_list = open(os.path.join(DATA_DIR, 'noise_list.txt')).readlines()\n",
    "    file_list = open(os.path.join(DATA_DIR, '%s_set.txt'%(split))).readlines()\n",
    "\n",
    "    clean_mixed_data_dict = {}\n",
    "    clean_mixed_data_dict['clean'] = []\n",
    "    clean_mixed_data_dict['mixed'] = []\n",
    "\n",
    "    for itr in tqdm(range(num_samples)):\n",
    "        snr = choice((15,20)) # randomly sample snr from 15-20\n",
    "        sph_data = SPHFile(os.path.join(BASE_DIR, file_list[itr]).rstrip())\n",
    "        samp_rate = sph_data.format['sample_rate']\n",
    "\n",
    "        # Randomly sample noise sample from noise data list\n",
    "        noise_data = librosa.load(os.path.join(BASE_DIR, choice(noise_list)).rstrip(), sr=samp_rate)\n",
    "        assert(noise_data[1] == samp_rate == 16000)\n",
    "        noise_signal = noise_data[0]\n",
    "    #     print(np.max(noise_signal), np.min(noise_signal))\n",
    "\n",
    "        # Mixing noise with clean speech\n",
    "        clean_signal = sph_data.content / (2**(sph_data.format['sample_sig_bits'] - 1))\n",
    "\n",
    "        len_signal = min(clean_signal.shape[0], noise_signal.shape[0])\n",
    "        signal_len_lst.append(len_signal)\n",
    "    #         print('Length of signal -- %d'%(len_signal))\n",
    "\n",
    "        start_n = randint(0, max(0, noise_signal.shape[0] - clean_signal.shape[0]))\n",
    "\n",
    "        # randomly sample a window from noise sequence to be mixed\n",
    "        noise_signal = noise_signal[start_n:start_n+len_signal]\n",
    "        clean_signal = clean_signal[0:len_signal]\n",
    "\n",
    "        p_noise = np.average(noise_signal**2)\n",
    "        p_signal = np.average(clean_signal**2)\n",
    "        alpha = np.sqrt(p_signal/p_noise * 10**-(snr/10))\n",
    "\n",
    "        mixed_signal = clean_signal + alpha * noise_signal\n",
    "    #         print(np.max(mixed_signal), np.min(mixed_signal))\n",
    "        print('SNR -- %f' %(10*np.log10(np.average(clean_signal**2)/(alpha**2 * np.average((noise_signal)**2)))))\n",
    "\n",
    "        stft_clean = compute_stft(clean_signal, win_length=k, n_fft=k)\n",
    "        stft_mixed = compute_stft(mixed_signal, win_length=k, n_fft=k)\n",
    "\n",
    "        clean_mixed_data_dict['clean'].append(stft_clean)\n",
    "        clean_mixed_data_dict['mixed'].append(stft_mixed)\n",
    "\n",
    "    with open(os.path.join(DATA_DIR, 'pkl_files/%s_data/clean_mixed_data_snr_%d.pickle'%(split, num_samples)), 'wb') as handle:\n",
    "        pickle.dump(clean_mixed_data_dict, handle, protocol=pickle.HIGHEST_PROTOCOL)"
   ]
  },
  {
   "cell_type": "code",
   "execution_count": null,
   "id": "bcd3598f",
   "metadata": {},
   "outputs": [],
   "source": []
  }
 ],
 "metadata": {
  "kernelspec": {
   "display_name": "Python 3 (clean)",
   "language": "python",
   "name": "python3_clean"
  },
  "language_info": {
   "codemirror_mode": {
    "name": "ipython",
    "version": 3
   },
   "file_extension": ".py",
   "mimetype": "text/x-python",
   "name": "python",
   "nbconvert_exporter": "python",
   "pygments_lexer": "ipython3",
   "version": "3.9.5"
  }
 },
 "nbformat": 4,
 "nbformat_minor": 5
}
